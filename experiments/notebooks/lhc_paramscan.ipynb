{
 "cells": [
  {
   "cell_type": "markdown",
   "metadata": {},
   "source": [
    "# Parameter scan for the LHC data set"
   ]
  },
  {
   "cell_type": "code",
   "execution_count": null,
   "metadata": {},
   "outputs": [],
   "source": [
    "%matplotlib inline\n",
    "\n",
    "import sys\n",
    "import numpy as np\n",
    "import optuna\n",
    "import pickle\n",
    "from matplotlib import pyplot as plt\n",
    "import pandas as pd\n",
    "from scipy.stats import gmean\n",
    "from collections import Counter\n"
   ]
  },
  {
   "cell_type": "code",
   "execution_count": null,
   "metadata": {},
   "outputs": [],
   "source": [
    "studies = []\n",
    "for i in range(0, 500):\n",
    "    try:\n",
    "        studies.append(pickle.load(open(f\"../data/paramscan/paramscan_june_{i}.pickle\", \"rb\")))\n",
    "    except FileNotFoundError as e:\n",
    "        pass\n",
    "        # print(f\"Param scan run {i} is missing\")       \n",
    "                       \n",
    "trials = [study.trials_dataframe() for study in studies]\n"
   ]
  },
  {
   "cell_type": "code",
   "execution_count": null,
   "metadata": {},
   "outputs": [],
   "source": [
    "for i, trial in enumerate(trials):\n",
    "    trial.index = [f\"job_{i}_trial_{j}\" for j in trial[\"number\"]]\n",
    "\n",
    "results = pd.concat(trials)\n",
    "results = results.drop([\"number\", \"state\", \"datetime_start\", \"datetime_complete\"], axis=1)\n",
    "results = results.rename(columns={c:c.replace(\"params_\", \"\") for c in results.keys()})\n",
    "results = results.sort_values(by=\"value\", ascending=True)\n"
   ]
  },
  {
   "cell_type": "code",
   "execution_count": null,
   "metadata": {},
   "outputs": [],
   "source": [
    "results"
   ]
  },
  {
   "cell_type": "code",
   "execution_count": null,
   "metadata": {},
   "outputs": [],
   "source": [
    "edge_dict = {\n",
    "    \"batchnorm\": [-0.5, 0.5, 1.5],\n",
    "    \"batchsize\": [25, 75, 150, 300, 500],\n",
    "    \"dropout\": [-0.5, 0.1, 1.5],\n",
    "    \"linchannelfactor\": [0.5, 1.5, 2.5],\n",
    "    \"linlayers\": [0.5, 1.5, 2.5, 3.5],\n",
    "    \"splinerange\": [5.5, 7., 9., 11.],\n",
    "    \"splinebins\": [4, 6, 9, 15, 21],\n",
    "    \"lineartransform\": None,\n",
    "}\n"
   ]
  },
  {
   "cell_type": "code",
   "execution_count": null,
   "metadata": {},
   "outputs": [],
   "source": [
    "params = [c for c in results.columns if c != \"value\"]\n",
    "n = len(params)\n",
    "ncols = 3\n",
    "nrows = (n - 1) // ncols + 1\n",
    "\n",
    "y_err = 1.\n",
    "\n",
    "\n",
    "plt.figure(figsize=(ncols * 4., nrows * 4))\n",
    "\n",
    "for i, param in enumerate(params):\n",
    "    ax = plt.subplot(nrows, ncols, i+1)\n",
    "    \n",
    "    x, y = results[param], results[\"value\"]\n",
    "    filter_ = y < 0.99e9\n",
    "    x_ = x[filter_]\n",
    "    y_ = y[filter_]\n",
    "    y_err_min = 1.5 * np.max(y_)\n",
    "    y_err_max = 1.7 * np.max(y_)\n",
    "    \n",
    "    if param in edge_dict:\n",
    "        edges = edge_dict[param]\n",
    "    else:\n",
    "        edges = np.percentile(x_, np.linspace(0., 100., 6))\n",
    "        \n",
    "    if edges is None:  # Non-numeric x axes\n",
    "        counter = Counter(x)\n",
    "        x_dict = {label: val for val, label in enumerate(counter.keys())}\n",
    "        x = np.array([x_dict[this_x] for this_x in x])\n",
    "        x_ = x[filter_]\n",
    "        edges = np.linspace(-0.5, len(counter.keys()) - 0.5, len(counter.keys()) + 1)\n",
    "        plt.xticks((edges[1:] + edges[:-1])/2, list(counter.keys()))\n",
    "\n",
    "    x_means = [np.median(x_[(x_ > min_)&(x_ < max_)]) for min_, max_ in zip(edges[:-1], edges[1:])]\n",
    "    y_means = [np.median(y_[(x_ > min_)&(x_ < max_)]) for min_, max_ in zip(edges[:-1], edges[1:])]\n",
    "    y_low = [np.percentile(y_[(x_ > min_)&(x_ < max_)], 16) for min_, max_ in zip(edges[:-1], edges[1:])]\n",
    "    y_high = [np.percentile(y_[(x_ > min_)&(x_ < max_)], 84) for min_, max_ in zip(edges[:-1], edges[1:])]\n",
    "    err_fraction = [1. - len(y_[(x_ > min_)&(x_ < max_)]) / len(y[(x > min_)&(x < max_)]) for min_, max_ in zip(edges[:-1], edges[1:])]\n",
    "        \n",
    "    ax.scatter(x_, y_, marker= \"o\", s=8., c=\"C0\", alpha=0.5)\n",
    "\n",
    "    ax.fill_between(x_means, y_low, y_high, color=\"C0\", alpha=0.15)\n",
    "    ax.plot(x_means, y_means, c=\"C0\", lw=2.0)\n",
    "    \n",
    "    plt.xlabel(param)\n",
    "    plt.ylabel(\"Reco error plus sample closure\", color=\"C0\")\n",
    "    plt.yscale(\"log\")\n",
    "    # plt.ylim(0., None)\n",
    "    if param in [\"clip\", \"msefactor\", \"weightdecay\", \"uvl2reg\"]:\n",
    "        plt.xscale(\"log\")\n",
    "    ax.tick_params(axis='y', labelcolor=\"C0\")\n",
    "        \n",
    "#     ax2 = ax.twinx()\n",
    "#     ax2.set_ylabel('Error fraction', color=\"C3\")\n",
    "#     ax2.plot(x_means, err_fraction, color=\"C3\")\n",
    "#     ax2.tick_params(axis='y', labelcolor=\"C3\")\n",
    "#     plt.ylim(0., 0.8)\n",
    "\n",
    "plt.tight_layout()\n",
    "plt.savefig(\"../figures/lhc_paramscan.pdf\")\n"
   ]
  },
  {
   "cell_type": "markdown",
   "metadata": {},
   "source": [
    "## Best results"
   ]
  },
  {
   "cell_type": "code",
   "execution_count": null,
   "metadata": {},
   "outputs": [],
   "source": [
    "results.iloc[:3]"
   ]
  },
  {
   "cell_type": "code",
   "execution_count": null,
   "metadata": {},
   "outputs": [],
   "source": []
  }
 ],
 "metadata": {
  "kernelspec": {
   "display_name": "Python (ML)",
   "language": "python",
   "name": "ml"
  },
  "language_info": {
   "codemirror_mode": {
    "name": "ipython",
    "version": 3
   },
   "file_extension": ".py",
   "mimetype": "text/x-python",
   "name": "python",
   "nbconvert_exporter": "python",
   "pygments_lexer": "ipython3",
   "version": "3.7.3"
  }
 },
 "nbformat": 4,
 "nbformat_minor": 4
}
