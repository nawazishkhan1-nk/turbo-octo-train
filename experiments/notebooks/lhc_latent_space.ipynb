{
 "cells": [
  {
   "cell_type": "markdown",
   "metadata": {},
   "source": [
    "# Explore M-flow latent space for LHC dataset"
   ]
  },
  {
   "cell_type": "code",
   "execution_count": null,
   "metadata": {},
   "outputs": [],
   "source": [
    "%matplotlib inline\n",
    "\n",
    "import sys\n",
    "import numpy as np\n",
    "import matplotlib\n",
    "from matplotlib import pyplot as plt\n",
    "import logging\n",
    "import torch\n",
    "import numpy as np\n",
    "\n",
    "logging.basicConfig(\n",
    "    format=\"%(asctime)-5.5s %(name)-30.30s %(levelname)-7.7s %(message)s\",\n",
    "    datefmt=\"%H:%M\",\n",
    "    level=logging.INFO,\n",
    ")\n",
    "\n",
    "sys.path.append(\"../../\")\n",
    "from experiments.architectures.vector_transforms import create_vector_transform\n",
    "from manifold_flow.flows import ManifoldFlow, EncoderManifoldFlow\n",
    "from experiments.datasets import WBF40DLoader\n",
    "import plot_settings as ps\n"
   ]
  },
  {
   "cell_type": "code",
   "execution_count": null,
   "metadata": {},
   "outputs": [],
   "source": [
    "ps.setup()"
   ]
  },
  {
   "cell_type": "markdown",
   "metadata": {},
   "source": [
    "## Get data"
   ]
  },
  {
   "cell_type": "code",
   "execution_count": null,
   "metadata": {},
   "outputs": [],
   "source": [
    "n = 1000\n",
    "sim40d = WBF40DLoader()"
   ]
  },
  {
   "cell_type": "code",
   "execution_count": null,
   "metadata": {},
   "outputs": [],
   "source": [
    "x0, _ = sim40d.load_dataset(train=False, dataset_dir=\"../data/samples/lhc40d\", numpy=True, limit_samplesize=n, true_param_id=0)\n",
    "x1, _ = sim40d.load_dataset(train=False, dataset_dir=\"../data/samples/lhc40d\", numpy=True, limit_samplesize=n, true_param_id=1)\n",
    "x2, _ = sim40d.load_dataset(train=False, dataset_dir=\"../data/samples/lhc40d\", numpy=True, limit_samplesize=n, true_param_id=2)\n",
    "x_gen0 = np.load(\"../data/results/mf_14_lhc40d_june_samples.npy\")\n",
    "x_gen1 = np.load(\"../data/results/mf_14_lhc40d_june_samples_trueparam1.npy\")\n",
    "x_gen2 = np.load(\"../data/results/mf_14_lhc40d_june_samples_trueparam2.npy\")\n"
   ]
  },
  {
   "cell_type": "code",
   "execution_count": null,
   "metadata": {},
   "outputs": [],
   "source": []
  },
  {
   "cell_type": "markdown",
   "metadata": {},
   "source": [
    "## Load model"
   ]
  },
  {
   "cell_type": "code",
   "execution_count": null,
   "metadata": {},
   "outputs": [],
   "source": [
    "def load_model(\n",
    "    filename,\n",
    "    outerlayers=20,\n",
    "    innerlayers=15,\n",
    "    splinebins=11,\n",
    "    splinerange=10.0,\n",
    "    dropout=0.0,\n",
    "    batchnorm=False,\n",
    "    outertransform=\"rq-coupling\",\n",
    "    innertransform=\"rq-coupling\",\n",
    "    lineartransform=\"lu\",\n",
    "    pieepsilon=0.1,\n",
    "    pieclip=None,\n",
    "):\n",
    "    outer_transform = create_vector_transform(\n",
    "        40,\n",
    "        outerlayers,\n",
    "        linear_transform_type=lineartransform,\n",
    "        base_transform_type=outertransform,\n",
    "        context_features=None,\n",
    "        dropout_probability=dropout,\n",
    "        tail_bound=splinerange,\n",
    "        num_bins=splinebins,\n",
    "        use_batch_norm=batchnorm,\n",
    "    )\n",
    "    inner_transform = create_vector_transform(\n",
    "        14,\n",
    "        innerlayers,\n",
    "        linear_transform_type=lineartransform,\n",
    "        base_transform_type=innertransform,\n",
    "        context_features=2,\n",
    "        dropout_probability=dropout,\n",
    "        tail_bound=splinerange,\n",
    "        num_bins=splinebins,\n",
    "        use_batch_norm=batchnorm,\n",
    "    )\n",
    "    model = ManifoldFlow(\n",
    "        data_dim=40,\n",
    "        latent_dim=14,\n",
    "        outer_transform=outer_transform,\n",
    "        inner_transform=inner_transform,\n",
    "        apply_context_to_outer=False,\n",
    "        pie_epsilon=pieepsilon,\n",
    "        clip_pie=pieclip,\n",
    "    )\n",
    "        \n",
    "    model.load_state_dict(\n",
    "        torch.load(\"../data/models/{}.pt\".format(filename), map_location=torch.device(\"cpu\"))\n",
    "    )\n",
    "    _ = model.eval()\n",
    "    \n",
    "    return model"
   ]
  },
  {
   "cell_type": "code",
   "execution_count": null,
   "metadata": {},
   "outputs": [],
   "source": [
    "mf = load_model(\"mf_14_lhc40d_june\")"
   ]
  },
  {
   "cell_type": "markdown",
   "metadata": {},
   "source": [
    "## Project test data into latent space"
   ]
  },
  {
   "cell_type": "code",
   "execution_count": null,
   "metadata": {},
   "outputs": [],
   "source": [
    "def compute_uv(x, model=mf):\n",
    "    model.eval()\n",
    "    x_ = torch.tensor(x, dtype=torch.float)\n",
    "    \n",
    "    h, _ = model.outer_transform(x_, full_jacobian=False, context=None)\n",
    "    u, v = model.projection(h)\n",
    "    \n",
    "    return u.detach().numpy(), v.detach().numpy()"
   ]
  },
  {
   "cell_type": "code",
   "execution_count": null,
   "metadata": {},
   "outputs": [],
   "source": [
    "u0, v0 = compute_uv(x0)\n",
    "u1, v1 = compute_uv(x1)\n",
    "u2, v2 = compute_uv(x2)\n"
   ]
  },
  {
   "cell_type": "code",
   "execution_count": null,
   "metadata": {},
   "outputs": [],
   "source": [
    "v0.shape"
   ]
  },
  {
   "cell_type": "markdown",
   "metadata": {},
   "source": [
    "## Marginals of latents"
   ]
  },
  {
   "cell_type": "code",
   "execution_count": null,
   "metadata": {},
   "outputs": [],
   "source": [
    "ncols = 4\n",
    "nrows = 4\n",
    "\n",
    "fig = plt.figure(figsize=(3*ncols, 3*nrows))\n",
    "\n",
    "for i in range(14):\n",
    "    ax = plt.subplot(nrows, ncols, i+1)\n",
    "    plt.hist(\n",
    "        u0[:,i], range=(-1.5,1.5), bins=50, density=True,\n",
    "        histtype=\"step\", color=[ps.COLORS[1]], ls=\"-\", lw=1.5\n",
    "    )\n",
    "    plt.hist(\n",
    "        u1[:,i], range=(-1.5, 1.5), bins=50, density=True,\n",
    "        histtype=\"step\", color=[ps.COLORS[2]], ls=\"-\", lw=1.5\n",
    "    )\n",
    "    plt.hist(\n",
    "        u2[:,i], range=(-1.5, 1.5), bins=50, density=True,\n",
    "        histtype=\"step\", color=[ps.COLORS[3]], ls=\"-\", lw=1.5\n",
    "    )\n",
    "    plt.xlabel(\"$u_{\" + str(i) + \"}$\")\n",
    "    plt.ylabel(f\"Density\")\n",
    "    \n",
    "plt.tight_layout()\n",
    "plt.savefig(\"../figures/lhc_u_histos.pdf\")\n"
   ]
  },
  {
   "cell_type": "code",
   "execution_count": null,
   "metadata": {},
   "outputs": [],
   "source": [
    "ncols = 4\n",
    "nrows = 4\n",
    "\n",
    "fig = plt.figure(figsize=(3*ncols, 3*nrows))\n",
    "\n",
    "for i in range(14):\n",
    "    ax = plt.subplot(nrows, ncols, i+1)\n",
    "    plt.hist(\n",
    "        v0[:,i], range=(-0.2,0.2), bins=50, density=True,\n",
    "        histtype=\"step\", color=[ps.COLORS[1]], ls=\"-\", lw=1.5\n",
    "    )\n",
    "    plt.hist(\n",
    "        v1[:,i], range=(-0.2,0.2), bins=50, density=True,\n",
    "        histtype=\"step\", color=[ps.COLORS[2]], ls=\"-\", lw=1.5\n",
    "    )\n",
    "    plt.hist(\n",
    "        v2[:,i], range=(-0.2,0.2), bins=50, density=True,\n",
    "        histtype=\"step\", color=[ps.COLORS[3]], ls=\"-\", lw=1.5\n",
    "    )\n",
    "    plt.xlabel(f\"$v_{i}$\")\n",
    "    plt.ylabel(f\"Density\")\n",
    "    \n",
    "plt.tight_layout()\n",
    "plt.savefig(\"../figures/lhc_v_histos.pdf\")\n",
    "\n"
   ]
  },
  {
   "cell_type": "markdown",
   "metadata": {},
   "source": [
    "## Scatter plot"
   ]
  },
  {
   "cell_type": "code",
   "execution_count": null,
   "metadata": {},
   "outputs": [],
   "source": [
    "features = list(range(14))\n",
    "n = len(features)\n",
    "m = 250\n",
    "\n",
    "fig = plt.figure(figsize=(2*(n-1), 2*(n-1)))\n",
    "for ip, i in enumerate(features[1:]):\n",
    "    for jp in range(ip):\n",
    "        j = features[jp]\n",
    "        ax = plt.subplot(n-1, n-1, ip*(n-1) + jp + 1)\n",
    "        plt.scatter(u0[:m,j], u0[:m,i], s=0.5, c=[ps.COLORS[1]], rasterized=True)\n",
    "        plt.scatter(u1[:m,j], u1[:m,i], s=0.5, c=[ps.COLORS[2]], rasterized=True)\n",
    "        plt.scatter(u2[:m,j], u2[:m,i], s=0.5, c=[ps.COLORS[3]], rasterized=True)\n",
    "        ax.get_xaxis().set_ticks([])\n",
    "        ax.get_yaxis().set_ticks([])\n",
    "        plt.xlim(-1.5,1.5)\n",
    "        plt.ylim(-1.5,1.5)\n",
    "        \n",
    "        if ip == n - 2:\n",
    "            plt.xlabel(str(j))\n",
    "        if jp == 0:\n",
    "            plt.ylabel(str(i))\n",
    "        \n",
    "plt.tight_layout()\n",
    "plt.savefig(\"../figures/lhc_u_scatter.pdf\")\n"
   ]
  },
  {
   "cell_type": "code",
   "execution_count": null,
   "metadata": {},
   "outputs": [],
   "source": []
  }
 ],
 "metadata": {
  "kernelspec": {
   "display_name": "Python (ML)",
   "language": "python",
   "name": "ml"
  },
  "language_info": {
   "codemirror_mode": {
    "name": "ipython",
    "version": 3
   },
   "file_extension": ".py",
   "mimetype": "text/x-python",
   "name": "python",
   "nbconvert_exporter": "python",
   "pygments_lexer": "ipython3",
   "version": "3.7.3"
  }
 },
 "nbformat": 4,
 "nbformat_minor": 4
}
