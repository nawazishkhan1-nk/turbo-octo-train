{
 "cells": [
  {
   "cell_type": "markdown",
   "metadata": {},
   "source": [
    "# 2-D image manifold: images"
   ]
  },
  {
   "cell_type": "code",
   "execution_count": null,
   "metadata": {},
   "outputs": [],
   "source": [
    "%matplotlib inline\n",
    "\n",
    "import sys\n",
    "import numpy as np\n",
    "import matplotlib\n",
    "from matplotlib import pyplot as plt\n",
    "from matplotlib.offsetbox import TextArea, DrawingArea, OffsetImage, AnnotationBbox\n",
    "import torch\n",
    "\n",
    "sys.path.append(\"../../\")\n",
    "from experiments.datasets import FFHQStyleGAN2DLoader\n",
    "from experiments.architectures.image_transforms import create_image_transform, create_image_encoder\n",
    "from experiments.architectures.vector_transforms import create_vector_transform\n",
    "from manifold_flow.flows import ManifoldFlow, EncoderManifoldFlow\n",
    "import plot_settings as ps\n"
   ]
  },
  {
   "cell_type": "code",
   "execution_count": null,
   "metadata": {},
   "outputs": [],
   "source": [
    "ps.setup()"
   ]
  },
  {
   "cell_type": "markdown",
   "metadata": {},
   "source": [
    "## Helper function to go from torch to numpy conventions"
   ]
  },
  {
   "cell_type": "code",
   "execution_count": null,
   "metadata": {},
   "outputs": [],
   "source": [
    "def trf(x):\n",
    "    return np.clip(np.transpose(x, [1,2,0]) / 256., 0., 1.)"
   ]
  },
  {
   "cell_type": "markdown",
   "metadata": {},
   "source": [
    "## Load models"
   ]
  },
  {
   "cell_type": "code",
   "execution_count": null,
   "metadata": {},
   "outputs": [],
   "source": [
    "def load_model(\n",
    "    filename,\n",
    "    outerlayers=20,\n",
    "    innerlayers=6,\n",
    "    levels=4,\n",
    "    splinebins=11,\n",
    "    splinerange=10.0,\n",
    "    dropout=0.0,\n",
    "    actnorm=True,\n",
    "    batchnorm=False,\n",
    "    linlayers=2,\n",
    "    linchannelfactor=1,\n",
    "    lineartransform=\"lu\"\n",
    "):\n",
    "    steps_per_level = outerlayers // levels\n",
    "    spline_params = {\n",
    "        \"apply_unconditional_transform\": False,\n",
    "        \"min_bin_height\": 0.001,\n",
    "        \"min_bin_width\": 0.001,\n",
    "        \"min_derivative\": 0.001,\n",
    "        \"num_bins\": splinebins,\n",
    "        \"tail_bound\": splinerange,\n",
    "    }\n",
    "    outer_transform = create_image_transform(\n",
    "        3,\n",
    "        64,\n",
    "        64,\n",
    "        levels=levels,\n",
    "        hidden_channels=100,\n",
    "        steps_per_level=steps_per_level,\n",
    "        num_res_blocks=2,\n",
    "        alpha=0.05,\n",
    "        num_bits=8,\n",
    "        preprocessing=\"glow\",\n",
    "        dropout_prob=dropout,\n",
    "        multi_scale=True,\n",
    "        spline_params=spline_params,\n",
    "        postprocessing=\"partial_mlp\",\n",
    "        postprocessing_layers=linlayers,\n",
    "        postprocessing_channel_factor=linchannelfactor,\n",
    "        use_actnorm=actnorm,\n",
    "        use_batchnorm=batchnorm,\n",
    "    )\n",
    "    inner_transform = create_vector_transform(\n",
    "        2,\n",
    "        innerlayers,\n",
    "        linear_transform_type=lineartransform,\n",
    "        base_transform_type=\"rq-coupling\",\n",
    "        context_features=None,\n",
    "        dropout_probability=dropout,\n",
    "        tail_bound=splinerange,\n",
    "        num_bins=splinebins,\n",
    "        use_batch_norm=batchnorm,\n",
    "    )\n",
    "    model = ManifoldFlow(\n",
    "        data_dim=(3, 64, 64),\n",
    "        latent_dim=2,\n",
    "        outer_transform=outer_transform,\n",
    "        inner_transform=inner_transform,\n",
    "        apply_context_to_outer=False,\n",
    "        pie_epsilon=0.1,\n",
    "        clip_pie=None\n",
    "    )\n",
    "        \n",
    "    model.load_state_dict(\n",
    "        torch.load(\"../data/models/{}.pt\".format(filename), map_location=torch.device(\"cpu\"))\n",
    "    )\n",
    "    _ = model.eval()\n",
    "    \n",
    "    return model"
   ]
  },
  {
   "cell_type": "code",
   "execution_count": null,
   "metadata": {},
   "outputs": [],
   "source": [
    "def load_emf_model(\n",
    "    filename,\n",
    "    outerlayers=20,\n",
    "    innerlayers=6,\n",
    "    levels=4,\n",
    "    splinebins=11,\n",
    "    splinerange=10.0,\n",
    "    dropout=0.0,\n",
    "    actnorm=True,\n",
    "    batchnorm=False,\n",
    "    linlayers=2,\n",
    "    linchannelfactor=1,\n",
    "    lineartransform=\"lu\"\n",
    "):\n",
    "    steps_per_level = outerlayers // levels\n",
    "    spline_params = {\n",
    "        \"apply_unconditional_transform\": False,\n",
    "        \"min_bin_height\": 0.001,\n",
    "        \"min_bin_width\": 0.001,\n",
    "        \"min_derivative\": 0.001,\n",
    "        \"num_bins\": splinebins,\n",
    "        \"tail_bound\": splinerange,\n",
    "    }\n",
    "    encoder = create_image_encoder(\n",
    "        3,\n",
    "        64,\n",
    "        64,\n",
    "        latent_dim=2,\n",
    "        context_features=None,\n",
    "    )\n",
    "    outer_transform = create_image_transform(\n",
    "        3,\n",
    "        64,\n",
    "        64,\n",
    "        levels=levels,\n",
    "        hidden_channels=100,\n",
    "        steps_per_level=steps_per_level,\n",
    "        num_res_blocks=2,\n",
    "        alpha=0.05,\n",
    "        num_bits=8,\n",
    "        preprocessing=\"glow\",\n",
    "        dropout_prob=dropout,\n",
    "        multi_scale=True,\n",
    "        spline_params=spline_params,\n",
    "        postprocessing=\"partial_mlp\",\n",
    "        postprocessing_layers=linlayers,\n",
    "        postprocessing_channel_factor=linchannelfactor,\n",
    "        use_actnorm=actnorm,\n",
    "        use_batchnorm=batchnorm,\n",
    "    )\n",
    "    inner_transform = create_vector_transform(\n",
    "        2,\n",
    "        innerlayers,\n",
    "        linear_transform_type=lineartransform,\n",
    "        base_transform_type=\"rq-coupling\",\n",
    "        context_features=None,\n",
    "        dropout_probability=dropout,\n",
    "        tail_bound=splinerange,\n",
    "        num_bins=splinebins,\n",
    "        use_batch_norm=batchnorm,\n",
    "    )\n",
    "    model = EncoderManifoldFlow(\n",
    "        data_dim=(3, 64, 64),\n",
    "        latent_dim=2,\n",
    "        encoder=encoder,\n",
    "        outer_transform=outer_transform,\n",
    "        inner_transform=inner_transform,\n",
    "        apply_context_to_outer=False,\n",
    "        pie_epsilon=0.1,\n",
    "        clip_pie=None\n",
    "    )\n",
    "        \n",
    "    model.load_state_dict(\n",
    "        torch.load(\"../data/models/{}.pt\".format(filename), map_location=torch.device(\"cpu\"))\n",
    "    )\n",
    "    _ = model.eval()\n",
    "    \n",
    "    return model"
   ]
  },
  {
   "cell_type": "code",
   "execution_count": null,
   "metadata": {},
   "outputs": [],
   "source": [
    "mf = load_model(\"mf_2_gan2d_april\")\n",
    "emf = load_emf_model(\"emf_2_gan2d_april\")\n",
    "pie = load_model(\"pie_2_gan2d_april\")"
   ]
  },
  {
   "cell_type": "markdown",
   "metadata": {},
   "source": [
    "## True (GAN) image manifold"
   ]
  },
  {
   "cell_type": "code",
   "execution_count": null,
   "metadata": {},
   "outputs": [],
   "source": [
    "boundary = 1.5\n",
    "resolution = 7\n",
    "each = np.linspace(-boundary, boundary, resolution)\n",
    "each_grid = np.meshgrid(*[each for _ in range(2)], indexing=\"ij\")\n",
    "each_grid = [x.flatten() for x in each_grid]\n",
    "gan_zs = np.vstack(each_grid).T\n",
    "\n",
    "gan_images = np.load(\"../data/samples/gan2d/grid.npy\")\n",
    "gan_images = gan_images.reshape((9, 9, 3, 64, 64))\n",
    "gan_images = gan_images[1:-1, 1:-1, :, :, :]\n",
    "gan_images = gan_images.reshape((49, 3, 64, 64))\n",
    "gan_images.shape"
   ]
  },
  {
   "cell_type": "code",
   "execution_count": null,
   "metadata": {},
   "outputs": [],
   "source": [
    "size = 0.45\n",
    "fig, ax = ps.figure(height=0.33*ps.TEXTWIDTH)\n",
    "\n",
    "for z, image in zip(gan_zs, gan_images):\n",
    "    image_ = np.transpose(image, [1,2,0])\n",
    "    plt.imshow(image_, extent=(z[0]-size/2, z[0]+size/2, z[1]-size/2, z[1]+size/2))\n",
    "\n",
    "plt.xlabel(\"StyleGAN latent variable $z_0$\", labelpad=4)\n",
    "plt.ylabel(\"StyleGAN latent variable $z_1$\", labelpad=1)\n",
    "plt.xlim(-1.5 - 1.3*size/2, 1.5 + 1.3*size/2)\n",
    "plt.ylim(-1.5 - 1.3*size/2, 1.5 + 1.3*size/2)\n",
    "plt.xticks([-1., 0., 1.])\n",
    "plt.yticks([-1., 0., 1.])\n",
    "ax.tick_params(axis='y', which='major', pad=1)\n",
    "\n",
    "plt.savefig(\"../figures/gan2d_grid.pdf\")\n",
    "    "
   ]
  },
  {
   "cell_type": "markdown",
   "metadata": {},
   "source": [
    "## MF manifold"
   ]
  },
  {
   "cell_type": "code",
   "execution_count": null,
   "metadata": {},
   "outputs": [],
   "source": [
    "boundary = 1.5\n",
    "resolution = 7\n",
    "each = np.linspace(-boundary, boundary, resolution)\n",
    "each_grid = np.meshgrid(*[each for _ in range(2)], indexing=\"ij\")\n",
    "each_grid = [x.flatten() for x in each_grid]\n",
    "mf_zs = np.vstack(each_grid).T\n",
    "\n",
    "z_ = torch.tensor(mf_zs, dtype=torch.float)\n",
    "mf_images = mf.sample(u=z_, n=resolution**2).detach().numpy()\n",
    "mf_images.shape\n"
   ]
  },
  {
   "cell_type": "code",
   "execution_count": null,
   "metadata": {},
   "outputs": [],
   "source": [
    "size = 0.45\n",
    "fig, ax = ps.figure(height=0.33*ps.TEXTWIDTH)\n",
    "\n",
    "for z, image in zip(mf_zs, mf_images):\n",
    "    plt.imshow(trf(image), extent=(z[0]-size/2, z[0]+size/2, z[1]-size/2, z[1]+size/2))\n",
    "\n",
    "plt.xlabel(r\"$\\mathcal{M}$-flow latent variable $\\tilde{u}_0$\", labelpad=4)\n",
    "plt.ylabel(r\"$\\mathcal{M}$-flow latent variable $\\tilde{u}_1$\", labelpad=1)\n",
    "plt.xlim(-1.5 - 1.3*size/2, 1.5 + 1.3*size/2)\n",
    "plt.ylim(-1.5 - 1.3*size/2, 1.5 + 1.3*size/2)\n",
    "plt.xticks([-1., 0., 1.])\n",
    "plt.yticks([-1., 0., 1.])\n",
    "ax.tick_params(axis='y', which='major', pad=1)\n",
    "\n",
    "plt.savefig(\"../figures/gan2d_mf_grid.pdf\")\n",
    "    "
   ]
  },
  {
   "cell_type": "markdown",
   "metadata": {},
   "source": [
    "## EMF manifold"
   ]
  },
  {
   "cell_type": "code",
   "execution_count": null,
   "metadata": {},
   "outputs": [],
   "source": [
    "boundary = 1.5\n",
    "resolution = 7\n",
    "each = np.linspace(-boundary, boundary, resolution)\n",
    "each_grid = np.meshgrid(*[each for _ in range(2)], indexing=\"ij\")\n",
    "each_grid = [x.flatten() for x in each_grid]\n",
    "emf_zs = np.vstack(each_grid).T\n",
    "\n",
    "z_ = torch.tensor(emf_zs, dtype=torch.float)\n",
    "emf_images = emf.sample(u=z_, n=resolution**2).detach().numpy()\n",
    "emf_images.shape\n"
   ]
  },
  {
   "cell_type": "code",
   "execution_count": null,
   "metadata": {},
   "outputs": [],
   "source": [
    "size = 0.45\n",
    "fig, ax = ps.figure(height=0.33*ps.TEXTWIDTH)\n",
    "\n",
    "for z, image in zip(emf_zs, emf_images):\n",
    "    plt.imshow(trf(image), extent=(z[0]-size/2, z[0]+size/2, z[1]-size/2, z[1]+size/2))\n",
    "\n",
    "plt.xlabel(r\"$\\mathcal{M}_e$-flow latent variable $\\tilde{u}_0$\", labelpad=4)\n",
    "plt.ylabel(r\"$\\mathcal{M}_e$-flow latent variable $\\tilde{u}_1$\", labelpad=1)\n",
    "plt.xlim(-1.5 - 1.3*size/2, 1.5 + 1.3*size/2)\n",
    "plt.ylim(-1.5 - 1.3*size/2, 1.5 + 1.3*size/2)\n",
    "plt.xticks([-1., 0., 1.])\n",
    "plt.yticks([-1., 0., 1.])\n",
    "ax.tick_params(axis='y', which='major', pad=1)\n",
    "\n",
    "plt.savefig(\"../figures/gan2d_emf_grid.pdf\")\n",
    "    "
   ]
  },
  {
   "cell_type": "markdown",
   "metadata": {},
   "source": [
    "## PIE manifold"
   ]
  },
  {
   "cell_type": "code",
   "execution_count": null,
   "metadata": {},
   "outputs": [],
   "source": [
    "boundary = 1.5\n",
    "resolution = 7\n",
    "each = np.linspace(-boundary, boundary, resolution)\n",
    "each_grid = np.meshgrid(*[each for _ in range(2)], indexing=\"ij\")\n",
    "each_grid = [x.flatten() for x in each_grid]\n",
    "pie_zs = np.vstack(each_grid).T\n",
    "\n",
    "z_ = torch.tensor(pie_zs, dtype=torch.float)\n",
    "pie_images = pie.sample(u=z_, n=resolution**2, sample_orthogonal=False).detach().numpy()\n",
    "pie_images_orth = pie.sample(u=z_, n=resolution**2, sample_orthogonal=True).detach().numpy()\n",
    "pie_images.shape\n"
   ]
  },
  {
   "cell_type": "code",
   "execution_count": null,
   "metadata": {},
   "outputs": [],
   "source": [
    "size = 0.45\n",
    "fig, ax = ps.figure(height=0.33*ps.TEXTWIDTH)\n",
    "\n",
    "for z, image in zip(pie_zs, pie_images):\n",
    "    plt.imshow(trf(image), extent=(z[0]-size/2, z[0]+size/2, z[1]-size/2, z[1]+size/2))\n",
    "\n",
    "plt.xlabel(r\"PIE latent variable $\\tilde{u}_0$\", labelpad=4)\n",
    "plt.ylabel(r\"PIE latent variable $\\tilde{u}_1$\", labelpad=1)\n",
    "plt.xlim(-1.5 - 1.3*size/2, 1.5 + 1.3*size/2)\n",
    "plt.ylim(-1.5 - 1.3*size/2, 1.5 + 1.3*size/2)\n",
    "plt.xticks([-1., 0., 1.])\n",
    "plt.yticks([-1., 0., 1.])\n",
    "ax.tick_params(axis='y', which='major', pad=1)\n",
    "\n",
    "plt.savefig(\"../figures/gan2d_pie_grid.pdf\")\n",
    "    "
   ]
  },
  {
   "cell_type": "markdown",
   "metadata": {},
   "source": [
    "## Sample comparison"
   ]
  },
  {
   "cell_type": "code",
   "execution_count": null,
   "metadata": {},
   "outputs": [],
   "source": [
    "x_gen_pie_sample_v = pie.sample(u=None, n=20, sample_orthogonal=True).detach().numpy()\n",
    "\n",
    "plt.figure(figsize=(5*2.,4*2.))\n",
    "for i in range(20):\n",
    "    ax = plt.subplot(4,5, i+1)\n",
    "    plt.imshow(trf(x_gen_pie_sample_v[i]))\n",
    "    plt.tick_params(axis='both', which='both', bottom=False, top=False, labelbottom=False, right=False, left=False, labelleft=False)\n",
    "    plt.title(str(i))\n",
    "plt.show()"
   ]
  },
  {
   "cell_type": "code",
   "execution_count": null,
   "metadata": {},
   "outputs": [],
   "source": [
    "test_idx=list(range(20))\n",
    "n = 8\n",
    "\n",
    "x_test = 0.5 + 255. * np.load(\"../data/samples/gan2d/test.npy\")[[0,1,2,3,4,8,10,13]]\n",
    "x_gen_af = np.load(\"../data/results/flow_2_gan2d_april_samples.npy\")[[1,4,6,7,9,10,12,19]]\n",
    "x_gen_pie = np.load(\"../data/results/pie_2_gan2d_april_samples.npy\")[list(range(8))]\n",
    "x_gen_pie_ = x_gen_pie_sample_v[[0,1,3,6,7,12,16,18]]\n",
    "x_gen_mf = np.load(\"../data/results/mf_2_gan2d_april_samples.npy\")[[0,1,2,3,6,7,9,13]]\n",
    "x_gen_emf = np.load(\"../data/results/emf_2_gan2d_april_samples.npy\")[[0,1,2,6,8,10,11,19]]\n"
   ]
  },
  {
   "cell_type": "code",
   "execution_count": null,
   "metadata": {},
   "outputs": [],
   "source": [
    "nrows = 6\n",
    "ncols = 8\n",
    "\n",
    "xs = [x_test, x_gen_af, x_gen_pie, x_gen_pie_, x_gen_mf, x_gen_emf]\n",
    "labels = [\"Original\", \"AF\", r\"PIE (manifold)\", r\"PIE (off-manifold)\", r\"$\\mathcal{M}$-flow\", r\"$\\mathcal{M}_e$-flow\"]\n",
    "\n",
    "fig, gs = ps.grid_width(ncols, nrows, width=ps.TEXTWIDTH, large_margin=0.04, small_margin=0.01, sep=0.005, t_space=False, b_space=False, r_space=False, l_space=True)\n",
    "\n",
    "for i in range(ncols):\n",
    "    for j, (x, label) in enumerate(zip(xs, labels)):\n",
    "        ax = plt.subplot(gs[j*ncols + i])\n",
    "        plt.imshow(trf(x[i]))\n",
    "        plt.tick_params(axis='both', which='both', bottom=False, top=False, labelbottom=False, right=False, left=False, labelleft=False)\n",
    "        if i == 0:\n",
    "            plt.ylabel(label)\n",
    "    \n",
    "plt.savefig(\"../figures/gan2d_samples.pdf\")\n"
   ]
  },
  {
   "cell_type": "code",
   "execution_count": null,
   "metadata": {},
   "outputs": [],
   "source": [
    "nrows = 5\n",
    "ncols = 4\n",
    "\n",
    "xs = [x_test, x_gen_af, x_gen_pie, x_gen_mf, x_gen_emf]\n",
    "labels = [\"Original\", \"AF\", r\"PIE\", r\"$\\mathcal{M}$-flow\", r\"$\\mathcal{M}_e$-flow\"]\n",
    "\n",
    "fig, gs = ps.grid_width(ncols, nrows, width=0.33 * ps.TEXTWIDTH, large_margin=0.06, small_margin=0.01, sep=0.005, t_space=False, b_space=False, r_space=False, l_space=True)\n",
    "\n",
    "for i in range(ncols):\n",
    "    for j, (x, label) in enumerate(zip(xs, labels)):\n",
    "        ax = plt.subplot(gs[j*ncols + i])\n",
    "        plt.imshow(trf(x[i]))\n",
    "        plt.tick_params(axis='both', which='both', bottom=False, top=False, labelbottom=False, right=False, left=False, labelleft=False)\n",
    "        if i == 0:\n",
    "            plt.ylabel(label)\n",
    "    \n",
    "plt.savefig(\"../figures/gan2d_samples_small.pdf\")\n"
   ]
  },
  {
   "cell_type": "markdown",
   "metadata": {},
   "source": [
    "## Test samples and projections to learned manifolds"
   ]
  },
  {
   "cell_type": "code",
   "execution_count": null,
   "metadata": {},
   "outputs": [],
   "source": [
    "test_idx=[0,1,2,3,4,8,10,13]\n",
    "n_test = len(test_idx)\n",
    "\n",
    "x_test = 0.5 + 255. * np.load(\"../data/samples/gan2d/test.npy\")[test_idx]\n",
    "x_reco_mf = np.load(\"../data/results/mf_2_gan2d_april_model_x_reco_test.npy\")[test_idx]\n",
    "x_reco_emf = np.load(\"../data/results/emf_2_gan2d_april_model_x_reco_test.npy\")[test_idx]\n",
    "x_reco_pie = np.load(\"../data/results/pie_2_gan2d_april_model_x_reco_test.npy\")[test_idx]\n"
   ]
  },
  {
   "cell_type": "code",
   "execution_count": null,
   "metadata": {},
   "outputs": [],
   "source": [
    "nrows = 7\n",
    "enhance = 1\n",
    "labels = [\"Original\", \"PIE proj.\", \"PIE res.\", \"$\\mathcal{M}$-flow proj.\", r\"$\\mathcal{M}$-flow res.\", \"$\\mathcal{M}_e$-flow proj.\", \"$\\mathcal{M}_e$-flow res.\"]\n",
    "\n",
    "fig, gs = ps.grid_width(n_test, nrows, width=ps.TEXTWIDTH, large_margin=0.04, small_margin=0.01, sep=0.005, t_space=False, b_space=False, r_space=False, l_space=True)\n",
    "\n",
    "for i in range(n_test):\n",
    "    xs = [\n",
    "        trf(x_test[i]),\n",
    "        trf(x_reco_pie[i]),\n",
    "        1. - enhance*np.abs(trf(x_reco_pie[i]) - trf(x_test[i])),\n",
    "        trf(x_reco_mf[i]),\n",
    "        1. - enhance*np.abs(trf(x_reco_mf[i]) - trf(x_test[i])),\n",
    "        trf(x_reco_emf[i]),\n",
    "        1. - enhance*np.abs(trf(x_reco_emf[i]) - trf(x_test[i]))\n",
    "    ]\n",
    "    \n",
    "    for j, (x, label) in enumerate(zip(xs, labels)):\n",
    "        ax = plt.subplot(gs[j * n_test + i])\n",
    "        plt.imshow(x)\n",
    "        plt.tick_params(axis='both', which='both', bottom=False, top=False, labelbottom=False, right=False, left=False, labelleft=False)\n",
    "        if i == 0:\n",
    "            plt.ylabel(label)\n",
    "    \n",
    "plt.savefig(\"../figures/gan2d_projections.pdf\")\n"
   ]
  },
  {
   "cell_type": "code",
   "execution_count": null,
   "metadata": {},
   "outputs": [],
   "source": [
    "nrows = 5\n",
    "ncols = 4\n",
    "enhance = 1\n",
    "labels = [\"Original\", \"PIE\", \"Residual\", \"$\\mathcal{M}$-flow\", r\"Residual\"]\n",
    "\n",
    "fig, gs = ps.grid_width(ncols, nrows, width=0.33 * ps.TEXTWIDTH, large_margin=0.06, small_margin=0.01, sep=0.005, t_space=False, b_space=False, r_space=False, l_space=True)\n",
    "\n",
    "for i in range(ncols):\n",
    "    xs = [\n",
    "        trf(x_test[i]),\n",
    "        trf(x_reco_pie[i]),\n",
    "        1. - enhance*np.abs(trf(x_reco_pie[i]) - trf(x_test[i])),\n",
    "        trf(x_reco_mf[i]),\n",
    "        1. - enhance*np.abs(trf(x_reco_mf[i]) - trf(x_test[i])),\n",
    "    ]\n",
    "    \n",
    "    for j, (x, label) in enumerate(zip(xs, labels)):\n",
    "        ax = plt.subplot(gs[j * ncols + i])\n",
    "        plt.imshow(x)\n",
    "        plt.tick_params(axis='both', which='both', bottom=False, top=False, labelbottom=False, right=False, left=False, labelleft=False)\n",
    "        if i == 0:\n",
    "            plt.ylabel(label)\n",
    "    \n",
    "plt.savefig(\"../figures/gan2d_projections_small.pdf\")\n"
   ]
  },
  {
   "cell_type": "markdown",
   "metadata": {},
   "source": [
    "## Training samples"
   ]
  },
  {
   "cell_type": "code",
   "execution_count": null,
   "metadata": {},
   "outputs": [],
   "source": [
    "loader = FFHQStyleGAN2DLoader()\n",
    "data = loader.load_dataset(train=False, dataset_dir=\"../data/samples/gan2d\")\n",
    "    \n",
    "fig = plt.figure(figsize=(5*3., 4*3.))\n",
    "\n",
    "for i in range(20):\n",
    "    x, _ = data[np.random.randint(len(data) - 1)]\n",
    "    x_ = np.transpose(np.array(x), [1,2,0]) / 256.\n",
    "    ax = plt.subplot(4, 5, i+1)\n",
    "    plt.imshow(x_)\n",
    "    ax.get_xaxis().set_visible(False)\n",
    "    ax.get_yaxis().set_visible(False)\n",
    "\n",
    "plt.tight_layout()\n",
    "plt.show()\n"
   ]
  },
  {
   "cell_type": "code",
   "execution_count": null,
   "metadata": {},
   "outputs": [],
   "source": []
  }
 ],
 "metadata": {
  "kernelspec": {
   "display_name": "Python (ML)",
   "language": "python",
   "name": "ml"
  },
  "language_info": {
   "codemirror_mode": {
    "name": "ipython",
    "version": 3
   },
   "file_extension": ".py",
   "mimetype": "text/x-python",
   "name": "python",
   "nbconvert_exporter": "python",
   "pygments_lexer": "ipython3",
   "version": "3.7.3"
  }
 },
 "nbformat": 4,
 "nbformat_minor": 4
}
