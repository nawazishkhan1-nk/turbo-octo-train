{
 "cells": [
  {
   "cell_type": "markdown",
   "metadata": {},
   "source": [
    "# 64-D image manifold: images"
   ]
  },
  {
   "cell_type": "code",
   "execution_count": null,
   "metadata": {},
   "outputs": [],
   "source": [
    "%matplotlib inline\n",
    "\n",
    "import sys\n",
    "import numpy as np\n",
    "import matplotlib\n",
    "from matplotlib import pyplot as plt\n",
    "from matplotlib.offsetbox import TextArea, DrawingArea, OffsetImage, AnnotationBbox\n",
    "import torch\n",
    "\n",
    "sys.path.append(\"../../\")\n",
    "from experiments.datasets import FFHQStyleGAN64DLoader\n",
    "from experiments.architectures.image_transforms import create_image_transform, create_image_encoder\n",
    "from experiments.architectures.vector_transforms import create_vector_transform\n",
    "from manifold_flow.flows import ManifoldFlow, EncoderManifoldFlow\n",
    "import plot_settings as ps\n"
   ]
  },
  {
   "cell_type": "code",
   "execution_count": null,
   "metadata": {},
   "outputs": [],
   "source": [
    "ps.setup()"
   ]
  },
  {
   "cell_type": "markdown",
   "metadata": {},
   "source": [
    "## Helper function to go from torch to numpy conventions"
   ]
  },
  {
   "cell_type": "code",
   "execution_count": null,
   "metadata": {},
   "outputs": [],
   "source": [
    "def trf(x):\n",
    "    return np.clip(np.transpose(x, [1,2,0]) / 256., 0., 1.)"
   ]
  },
  {
   "cell_type": "markdown",
   "metadata": {},
   "source": [
    "## Load models"
   ]
  },
  {
   "cell_type": "code",
   "execution_count": null,
   "metadata": {},
   "outputs": [],
   "source": [
    "def load_model(\n",
    "    filename,\n",
    "    outerlayers=20,\n",
    "    innerlayers=8,\n",
    "    levels=4,\n",
    "    splinebins=11,\n",
    "    splinerange=10.0,\n",
    "    dropout=0.0,\n",
    "    actnorm=True,\n",
    "    batchnorm=False,\n",
    "    linlayers=2,\n",
    "    linchannelfactor=2,\n",
    "    lineartransform=\"lu\"\n",
    "):\n",
    "    steps_per_level = outerlayers // levels\n",
    "    spline_params = {\n",
    "        \"apply_unconditional_transform\": False,\n",
    "        \"min_bin_height\": 0.001,\n",
    "        \"min_bin_width\": 0.001,\n",
    "        \"min_derivative\": 0.001,\n",
    "        \"num_bins\": splinebins,\n",
    "        \"tail_bound\": splinerange,\n",
    "    }\n",
    "    outer_transform = create_image_transform(\n",
    "        3,\n",
    "        64,\n",
    "        64,\n",
    "        levels=levels,\n",
    "        hidden_channels=100,\n",
    "        steps_per_level=steps_per_level,\n",
    "        num_res_blocks=2,\n",
    "        alpha=0.05,\n",
    "        num_bits=8,\n",
    "        preprocessing=\"glow\",\n",
    "        dropout_prob=dropout,\n",
    "        multi_scale=True,\n",
    "        spline_params=spline_params,\n",
    "        postprocessing=\"partial_mlp\",\n",
    "        postprocessing_layers=linlayers,\n",
    "        postprocessing_channel_factor=linchannelfactor,\n",
    "        use_actnorm=actnorm,\n",
    "        use_batchnorm=batchnorm,\n",
    "    )\n",
    "    inner_transform = create_vector_transform(\n",
    "        64,\n",
    "        innerlayers,\n",
    "        linear_transform_type=lineartransform,\n",
    "        base_transform_type=\"rq-coupling\",\n",
    "        context_features=1,\n",
    "        dropout_probability=dropout,\n",
    "        tail_bound=splinerange,\n",
    "        num_bins=splinebins,\n",
    "        use_batch_norm=batchnorm,\n",
    "    )\n",
    "    model = ManifoldFlow(\n",
    "        data_dim=(3, 64, 64),\n",
    "        latent_dim=64,\n",
    "        outer_transform=outer_transform,\n",
    "        inner_transform=inner_transform,\n",
    "        apply_context_to_outer=False,\n",
    "        pie_epsilon=0.1,\n",
    "        clip_pie=None\n",
    "    )\n",
    "        \n",
    "    model.load_state_dict(\n",
    "        torch.load(\"../data/models/{}.pt\".format(filename), map_location=torch.device(\"cpu\"))\n",
    "    )\n",
    "    _ = model.eval()\n",
    "    \n",
    "    return model"
   ]
  },
  {
   "cell_type": "code",
   "execution_count": null,
   "metadata": {},
   "outputs": [],
   "source": [
    "def load_emf_model(\n",
    "    filename,\n",
    "    outerlayers=20,\n",
    "    innerlayers=8,\n",
    "    levels=4,\n",
    "    splinebins=11,\n",
    "    splinerange=10.0,\n",
    "    dropout=0.0,\n",
    "    actnorm=True,\n",
    "    batchnorm=False,\n",
    "    linlayers=2,\n",
    "    linchannelfactor=2,\n",
    "    lineartransform=\"lu\"\n",
    "):\n",
    "    steps_per_level = outerlayers // levels\n",
    "    spline_params = {\n",
    "        \"apply_unconditional_transform\": False,\n",
    "        \"min_bin_height\": 0.001,\n",
    "        \"min_bin_width\": 0.001,\n",
    "        \"min_derivative\": 0.001,\n",
    "        \"num_bins\": splinebins,\n",
    "        \"tail_bound\": splinerange,\n",
    "    }\n",
    "    encoder = create_image_encoder(\n",
    "        3,\n",
    "        64,\n",
    "        64,\n",
    "        latent_dim=64,\n",
    "        context_features=None,\n",
    "    )\n",
    "    outer_transform = create_image_transform(\n",
    "        3,\n",
    "        64,\n",
    "        64,\n",
    "        levels=levels,\n",
    "        hidden_channels=100,\n",
    "        steps_per_level=steps_per_level,\n",
    "        num_res_blocks=2,\n",
    "        alpha=0.05,\n",
    "        num_bits=8,\n",
    "        preprocessing=\"glow\",\n",
    "        dropout_prob=dropout,\n",
    "        multi_scale=True,\n",
    "        spline_params=spline_params,\n",
    "        postprocessing=\"partial_mlp\",\n",
    "        postprocessing_layers=linlayers,\n",
    "        postprocessing_channel_factor=linchannelfactor,\n",
    "        use_actnorm=actnorm,\n",
    "        use_batchnorm=batchnorm,\n",
    "    )\n",
    "    inner_transform = create_vector_transform(\n",
    "        64,\n",
    "        innerlayers,\n",
    "        linear_transform_type=lineartransform,\n",
    "        base_transform_type=\"rq-coupling\",\n",
    "        context_features=1,\n",
    "        dropout_probability=dropout,\n",
    "        tail_bound=splinerange,\n",
    "        num_bins=splinebins,\n",
    "        use_batch_norm=batchnorm,\n",
    "    )\n",
    "    model = EncoderManifoldFlow(\n",
    "        data_dim=(3, 64, 64),\n",
    "        latent_dim=2,\n",
    "        encoder=encoder,\n",
    "        outer_transform=outer_transform,\n",
    "        inner_transform=inner_transform,\n",
    "        apply_context_to_outer=False,\n",
    "        pie_epsilon=0.1,\n",
    "        clip_pie=None\n",
    "    )\n",
    "        \n",
    "    model.load_state_dict(\n",
    "        torch.load(\"../data/models/{}.pt\".format(filename), map_location=torch.device(\"cpu\"))\n",
    "    )\n",
    "    _ = model.eval()\n",
    "    \n",
    "    return model"
   ]
  },
  {
   "cell_type": "code",
   "execution_count": null,
   "metadata": {},
   "outputs": [],
   "source": [
    "mf = load_model(\"mf_64_gan64d_april\")\n",
    "emf = load_emf_model(\"emf_64_gan64d_april\")\n",
    "pie = load_model(\"pie_64_gan64d_april\")"
   ]
  },
  {
   "cell_type": "markdown",
   "metadata": {},
   "source": [
    "## Sample comparison"
   ]
  },
  {
   "cell_type": "code",
   "execution_count": null,
   "metadata": {},
   "outputs": [],
   "source": [
    "n = 8\n",
    "\n",
    "x_test = 0.5 + 255. * np.load(\"../data/samples/gan64d/x_test_prior.npy\")[:n]\n",
    "x_gen_af = np.load(\"../data/results/flow_2_gan64d_april_samples.npy\")[:n]\n",
    "x_gen_pie = np.load(\"../data/results/pie_64_gan64d_april_samples.npy\")[:n]\n",
    "x_gen_pie_sample_v = pie.sample(u=None, context=torch.zeros((n,1)).to(torch.float), n=n, sample_orthogonal=True).detach().numpy()\n",
    "x_gen_mf = np.load(\"../data/results/mf_64_gan64d_april_samples.npy\")[:n]\n",
    "x_gen_emf = np.load(\"../data/results/emf_64_gan64d_april_samples.npy\")[:n]\n"
   ]
  },
  {
   "cell_type": "code",
   "execution_count": null,
   "metadata": {},
   "outputs": [],
   "source": [
    "nrows = 6\n",
    "ncols = 8\n",
    "\n",
    "# xs = [x_test, x_gen_af, x_gen_pie, x_gen_mf, x_gen_emf]\n",
    "# labels = [\"Original\", \"AF\", r\"PIE\", r\"$\\mathcal{M}$-flow\", r\"$\\mathcal{M}_e$-flow\"]\n",
    "\n",
    "xs = [x_test, x_gen_af, x_gen_pie, x_gen_pie_sample_v, x_gen_mf, x_gen_emf]\n",
    "labels = [\"Original\", \"AF\", r\"PIE (manifold)\", r\"PIE (off-manifold)\", r\"$\\mathcal{M}$-flow\", r\"$\\mathcal{M}_e$-flow\"]\n",
    "\n",
    "fig, gs = ps.grid_width(ncols, nrows, width=ps.TEXTWIDTH, large_margin=0.04, small_margin=0.01, sep=0.005, t_space=False, b_space=False, r_space=False, l_space=True)\n",
    "\n",
    "for i in range(ncols):\n",
    "    for j, (x, label) in enumerate(zip(xs, labels)):\n",
    "        ax = plt.subplot(gs[j*ncols + i])\n",
    "        plt.imshow(trf(x[i]))\n",
    "        plt.tick_params(axis='both', which='both', bottom=False, top=False, labelbottom=False, right=False, left=False, labelleft=False)\n",
    "        if i == 0:\n",
    "            plt.ylabel(label)\n",
    "    \n",
    "plt.savefig(\"../figures/gan64d_samples.pdf\")\n"
   ]
  },
  {
   "cell_type": "code",
   "execution_count": null,
   "metadata": {},
   "outputs": [],
   "source": [
    "nrows = 5\n",
    "ncols = 4\n",
    "\n",
    "xs = [x_test, x_gen_af, x_gen_pie, x_gen_mf, x_gen_emf]\n",
    "labels = [\"Original\", \"AF\", r\"PIE\", r\"$\\mathcal{M}$-flow\", r\"$\\mathcal{M}_e$-flow\"]\n",
    "\n",
    "fig, gs = ps.grid_width(ncols, nrows, width=0.33 * ps.TEXTWIDTH, large_margin=0.06, small_margin=0.01, sep=0.005, t_space=False, b_space=False, r_space=False, l_space=True)\n",
    "\n",
    "for i in range(ncols):\n",
    "    for j, (x, label) in enumerate(zip(xs, labels)):\n",
    "        ax = plt.subplot(gs[j*ncols + i])\n",
    "        plt.imshow(trf(x[i]))\n",
    "        plt.tick_params(axis='both', which='both', bottom=False, top=False, labelbottom=False, right=False, left=False, labelleft=False)\n",
    "        if i == 0:\n",
    "            plt.ylabel(label)\n",
    "    \n",
    "plt.savefig(\"../figures/gan64d_samples_small.pdf\")\n"
   ]
  },
  {
   "cell_type": "markdown",
   "metadata": {},
   "source": [
    "## Test samples and projections to learned manifolds"
   ]
  },
  {
   "cell_type": "code",
   "execution_count": null,
   "metadata": {},
   "outputs": [],
   "source": [
    "test_idx=list(range(8))\n",
    "n_test = len(test_idx)\n",
    "\n",
    "x_test = 0.5 + 255. * np.load(\"../data/samples/gan64d/x_test.npy\")[test_idx]\n",
    "x_reco_mf = np.load(\"../data/results/mf_64_gan64d_april_model_x_reco_test.npy\")[test_idx]\n",
    "x_reco_emf = np.load(\"../data/results/emf_64_gan64d_april_model_x_reco_test.npy\")[test_idx]\n",
    "x_reco_pie = np.load(\"../data/results/pie_64_gan64d_april_model_x_reco_test.npy\")[test_idx]\n"
   ]
  },
  {
   "cell_type": "code",
   "execution_count": null,
   "metadata": {},
   "outputs": [],
   "source": [
    "nrows = 5\n",
    "ncols = 4\n",
    "enhance = 1\n",
    "labels = [\"Original\", \"PIE\", \"Residual\", \"$\\mathcal{M}$-flow\", r\"Residual\"]\n",
    "\n",
    "fig, gs = ps.grid_width(ncols, nrows, width=0.33 * ps.TEXTWIDTH, large_margin=0.06, small_margin=0.01, sep=0.005, t_space=False, b_space=False, r_space=False, l_space=True)\n",
    "\n",
    "for i in range(ncols):\n",
    "    xs = [\n",
    "        trf(x_test[i]),\n",
    "        trf(x_reco_pie[i]),\n",
    "        1. - enhance*np.abs(trf(x_reco_pie[i]) - trf(x_test[i])),\n",
    "        trf(x_reco_mf[i]),\n",
    "        1. - enhance*np.abs(trf(x_reco_mf[i]) - trf(x_test[i])),\n",
    "    ]\n",
    "    \n",
    "    for j, (x, label) in enumerate(zip(xs, labels)):\n",
    "        ax = plt.subplot(gs[j * ncols + i])\n",
    "        plt.imshow(x)\n",
    "        plt.tick_params(axis='both', which='both', bottom=False, top=False, labelbottom=False, right=False, left=False, labelleft=False)\n",
    "        if i == 0:\n",
    "            plt.ylabel(label)\n",
    "    \n",
    "plt.savefig(\"../figures/gan64d_projections_small.pdf\")\n"
   ]
  },
  {
   "cell_type": "markdown",
   "metadata": {},
   "source": [
    "## Training samples"
   ]
  },
  {
   "cell_type": "code",
   "execution_count": null,
   "metadata": {},
   "outputs": [],
   "source": [
    "loader = FFHQStyleGAN64DLoader()\n",
    "data = loader.load_dataset(train=False, dataset_dir=\"../data/samples/gan64d\")\n",
    "    \n",
    "fig = plt.figure(figsize=(5*3., 4*3.))\n",
    "\n",
    "for i in range(20):\n",
    "    x, _ = data[np.random.randint(len(data) - 1)]\n",
    "    x_ = np.transpose(np.array(x), [1,2,0]) / 256.\n",
    "    ax = plt.subplot(4, 5, i+1)\n",
    "    plt.imshow(x_)\n",
    "    ax.get_xaxis().set_visible(False)\n",
    "    ax.get_yaxis().set_visible(False)\n",
    "\n",
    "plt.tight_layout()\n",
    "plt.show()\n"
   ]
  },
  {
   "cell_type": "code",
   "execution_count": null,
   "metadata": {},
   "outputs": [],
   "source": []
  }
 ],
 "metadata": {
  "kernelspec": {
   "display_name": "Python (ML)",
   "language": "python",
   "name": "ml"
  },
  "language_info": {
   "codemirror_mode": {
    "name": "ipython",
    "version": 3
   },
   "file_extension": ".py",
   "mimetype": "text/x-python",
   "name": "python",
   "nbconvert_exporter": "python",
   "pygments_lexer": "ipython3",
   "version": "3.7.3"
  }
 },
 "nbformat": 4,
 "nbformat_minor": 4
}
