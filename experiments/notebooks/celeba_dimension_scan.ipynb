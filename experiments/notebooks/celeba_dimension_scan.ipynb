{
 "cells": [
  {
   "cell_type": "markdown",
   "metadata": {},
   "source": [
    "# CelebA: scan over the latent dimensionality n"
   ]
  },
  {
   "cell_type": "markdown",
   "metadata": {},
   "source": [
    "## Setup"
   ]
  },
  {
   "cell_type": "code",
   "execution_count": 1,
   "metadata": {},
   "outputs": [],
   "source": [
    "%matplotlib inline\n",
    "\n",
    "import sys\n",
    "import numpy as np\n",
    "from matplotlib import pyplot as plt\n",
    "from itertools import product\n",
    "\n",
    "import plot_settings as ps\n"
   ]
  },
  {
   "cell_type": "markdown",
   "metadata": {},
   "source": [
    "## Load results"
   ]
  },
  {
   "cell_type": "code",
   "execution_count": 2,
   "metadata": {},
   "outputs": [
    {
     "data": {
      "text/plain": [
       "(8,)"
      ]
     },
     "execution_count": 2,
     "metadata": {},
     "output_type": "execute_result"
    }
   ],
   "source": [
    "dims = 2**np.arange(3, 10.5, 1, dtype=np.int)\n",
    "\n",
    "\n",
    "def load(tag, shape, numpyfy=True, result_dir=\"../data/results\"):\n",
    "    results = []\n",
    "    \n",
    "    for dim in dims:\n",
    "        try:\n",
    "            this_result = np.load(f\"{result_dir}/mf_{dim}_celeba_scan_{dim}_{tag}.npy\")\n",
    "            \n",
    "            if (not numpyfy) or (shape is None) or np.product(this_result.shape) == np.product(shape):\n",
    "                results.append(this_result.reshape(shape))\n",
    "            else:\n",
    "                results.append(np.nan*np.ones(shape))\n",
    "\n",
    "        except FileNotFoundError as e:\n",
    "            print(e)\n",
    "            if shape is None:\n",
    "                results.append(None)\n",
    "            else:\n",
    "                results.append(np.nan*np.ones(shape))\n",
    "    \n",
    "    if numpyfy:\n",
    "        results = np.array(results, dtype=np.float)\n",
    "        results = results.reshape([results.shape[0]] + list(shape))\n",
    "        \n",
    "    return results\n",
    "\n",
    "\n",
    "model_test_reco_xs = load(\"model_x_reco_test\", (100, 3, 64, 64))\n",
    "model_test_reco_errors = load(\"model_reco_error_test\", (100,))\n",
    "model_gen_fids = load(\"samples_fid\", (1,)).squeeze()\n",
    "model_gen_fids.shape\n"
   ]
  },
  {
   "cell_type": "code",
   "execution_count": 3,
   "metadata": {},
   "outputs": [
    {
     "data": {
      "text/plain": [
       "(8,)"
      ]
     },
     "execution_count": 3,
     "metadata": {},
     "output_type": "execute_result"
    }
   ],
   "source": [
    "max_reco_error = 10000.\n",
    "model_mean_reco_errors = np.mean(np.clip(model_test_reco_errors, 0., max_reco_error), axis=1)\n",
    "model_mean_reco_errors.shape\n"
   ]
  },
  {
   "cell_type": "markdown",
   "metadata": {},
   "source": [
    "## Plot"
   ]
  },
  {
   "cell_type": "code",
   "execution_count": 4,
   "metadata": {},
   "outputs": [
    {
     "data": {
      "text/plain": [
       "\u001b[0;31mSignature:\u001b[0m\n",
       "\u001b[0mps\u001b[0m\u001b[0;34m.\u001b[0m\u001b[0mfigure_width\u001b[0m\u001b[0;34m(\u001b[0m\u001b[0;34m\u001b[0m\n",
       "\u001b[0;34m\u001b[0m    \u001b[0mwidth\u001b[0m\u001b[0;34m=\u001b[0m\u001b[0;36m4.5\u001b[0m\u001b[0;34m,\u001b[0m\u001b[0;34m\u001b[0m\n",
       "\u001b[0;34m\u001b[0m    \u001b[0mlarge_margin\u001b[0m\u001b[0;34m=\u001b[0m\u001b[0;36m0.14\u001b[0m\u001b[0;34m,\u001b[0m\u001b[0;34m\u001b[0m\n",
       "\u001b[0;34m\u001b[0m    \u001b[0msmall_margin\u001b[0m\u001b[0;34m=\u001b[0m\u001b[0;36m0.03\u001b[0m\u001b[0;34m,\u001b[0m\u001b[0;34m\u001b[0m\n",
       "\u001b[0;34m\u001b[0m    \u001b[0mmake3d\u001b[0m\u001b[0;34m=\u001b[0m\u001b[0;32mFalse\u001b[0m\u001b[0;34m,\u001b[0m\u001b[0;34m\u001b[0m\n",
       "\u001b[0;34m\u001b[0m    \u001b[0ml_space\u001b[0m\u001b[0;34m=\u001b[0m\u001b[0;32mTrue\u001b[0m\u001b[0;34m,\u001b[0m\u001b[0;34m\u001b[0m\n",
       "\u001b[0;34m\u001b[0m    \u001b[0mr_space\u001b[0m\u001b[0;34m=\u001b[0m\u001b[0;32mFalse\u001b[0m\u001b[0;34m,\u001b[0m\u001b[0;34m\u001b[0m\n",
       "\u001b[0;34m\u001b[0m    \u001b[0mb_space\u001b[0m\u001b[0;34m=\u001b[0m\u001b[0;32mTrue\u001b[0m\u001b[0;34m,\u001b[0m\u001b[0;34m\u001b[0m\n",
       "\u001b[0;34m\u001b[0m    \u001b[0mt_space\u001b[0m\u001b[0;34m=\u001b[0m\u001b[0;32mFalse\u001b[0m\u001b[0;34m,\u001b[0m\u001b[0;34m\u001b[0m\n",
       "\u001b[0;34m\u001b[0m\u001b[0;34m)\u001b[0m\u001b[0;34m\u001b[0m\u001b[0;34m\u001b[0m\u001b[0m\n",
       "\u001b[0;31mDocstring:\u001b[0m <no docstring>\n",
       "\u001b[0;31mFile:\u001b[0m      ~/work/projects/manifold_flow/manifold-flow/experiments/notebooks/plot_settings.py\n",
       "\u001b[0;31mType:\u001b[0m      function\n"
      ]
     },
     "metadata": {},
     "output_type": "display_data"
    }
   ],
   "source": [
    "ps.figure_width?"
   ]
  },
  {
   "cell_type": "code",
   "execution_count": 5,
   "metadata": {},
   "outputs": [
    {
     "data": {
      "text/plain": [
       "array([3.98114368, 3.38912642, 2.66036253, 2.08965361, 1.59179219,\n",
       "       1.17365542, 0.82722464, 0.53631511])"
      ]
     },
     "execution_count": 5,
     "metadata": {},
     "output_type": "execute_result"
    }
   ],
   "source": [
    "model_mean_reco_errors / 1.e3"
   ]
  },
  {
   "cell_type": "code",
   "execution_count": 6,
   "metadata": {},
   "outputs": [
    {
     "data": {
      "image/png": "[encoded data removed]",
      "text/plain": [
       "<Figure size 341.673x294.545 with 2 Axes>"
      ]
     },
     "metadata": {},
     "output_type": "display_data"
    }
   ],
   "source": [
    "fig, ax1 = ps.figure_width(width=0.5*ps.TEXTWIDTH, r_space=True, small_margin=0.02, large_margin=0.12)\n",
    "\n",
    "plt.plot(dims, model_gen_fids, marker=\"o\", ms=6., c=ps.COLOR_FLMA, ls=\"--\")\n",
    "\n",
    "plt.xscale(\"log\")\n",
    "plt.xlabel(\"Manifold dimension $n$\")\n",
    "\n",
    "plt.ylabel(\"FID score\")\n",
    "plt.ylim(38,76)\n",
    "ax1.yaxis.label.set_color(ps.COLOR_FLMA)\n",
    "ax1.tick_params(axis='y', colors=ps.COLOR_FLMA)\n",
    "\n",
    "\n",
    "ax2 = ax1.twinx()\n",
    "\n",
    "plt.plot(dims, model_mean_reco_errors / 1.e3, marker=\"s\", ms=6., c=ps.COLOR_AF, zorder=-5)\n",
    "\n",
    "plt.ylabel(\"Mean reconstruction error / $10^3$\")\n",
    "plt.yticks([0., 1., 2., 3., 4])\n",
    "plt.ylim(0., 4.15)\n",
    "ax2.yaxis.label.set_color(ps.COLOR_AF)\n",
    "ax2.tick_params(axis='y', colors=ps.COLOR_AF)\n",
    "\n",
    "plt.savefig(\"../figures/celeba_dimension_scan.pdf\")\n"
   ]
  },
  {
   "cell_type": "code",
   "execution_count": null,
   "metadata": {},
   "outputs": [],
   "source": []
  }
 ],
 "metadata": {
  "kernelspec": {
   "display_name": "Python (ML)",
   "language": "python",
   "name": "ml"
  },
  "language_info": {
   "codemirror_mode": {
    "name": "ipython",
    "version": 3
   },
   "file_extension": ".py",
   "mimetype": "text/x-python",
   "name": "python",
   "nbconvert_exporter": "python",
   "pygments_lexer": "ipython3",
   "version": "3.7.3"
  }
 },
 "nbformat": 4,
 "nbformat_minor": 4
}
