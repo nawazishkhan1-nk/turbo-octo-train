{
 "cells": [
  {
   "cell_type": "markdown",
   "metadata": {},
   "source": [
    "# StyleGAN image manifolds: result table"
   ]
  },
  {
   "cell_type": "markdown",
   "metadata": {},
   "source": [
    "## Setup"
   ]
  },
  {
   "cell_type": "code",
   "execution_count": null,
   "metadata": {},
   "outputs": [],
   "source": [
    "import sys\n",
    "import numpy as np\n",
    "from itertools import product\n",
    "from sklearn.neighbors import KernelDensity\n"
   ]
  },
  {
   "cell_type": "markdown",
   "metadata": {},
   "source": [
    "## Load results"
   ]
  },
  {
   "cell_type": "code",
   "execution_count": null,
   "metadata": {},
   "outputs": [],
   "source": [
    "n_runs = 10\n",
    "n_chains = 1\n",
    "n_trueparams = 1"
   ]
  },
  {
   "cell_type": "code",
   "execution_count": null,
   "metadata": {},
   "outputs": [],
   "source": [
    "algo_filenames = []\n",
    "algo_additionals = []\n",
    "algo_labels = []\n",
    "algo_dividers = []\n",
    "algo_dims = []\n",
    "\n",
    "def add_algo(filename, add, label, dim=None):\n",
    "    algo_filenames.append(filename)\n",
    "    algo_additionals.append(add)\n",
    "    algo_labels.append(label)\n",
    "    algo_dims.append(dim)\n",
    "    \n",
    "    \n",
    "def add_divider():\n",
    "    algo_dividers.append(len(algo_filenames))\n",
    "\n",
    "add_algo(\"flow\", \"april\", r\"\\af{}\", 2)\n",
    "add_algo(\"pie\", \"april\", r\"\\pie{}\")\n",
    "add_algo(\"mf\", \"april\", r\"\\mf{}\")\n",
    "add_algo(\"emf\", \"april\", r\"\\mfe{}\")\n",
    "\n",
    "n_algos = len(algo_filenames)\n"
   ]
  },
  {
   "cell_type": "code",
   "execution_count": null,
   "metadata": {},
   "outputs": [],
   "source": [
    "def load(tag, dim, shape, numpyfy=True, chains=1, result_dir=\"../data/results\"):\n",
    "    all_results = []\n",
    "    \n",
    "    for algo_filename, algo_add, algo_dim in zip(algo_filenames, algo_additionals, algo_dims):\n",
    "        algo_results = []\n",
    "            \n",
    "        for run in range(n_runs):\n",
    "            run_str = \"\" if run == 0 else \"_run{}\".format(run)\n",
    "\n",
    "            try:\n",
    "                this_result = np.load(\n",
    "                    f\"{result_dir}/{algo_filename}_{dim if algo_dim is None else algo_dim}_gan{dim}d_{algo_add}{run_str}_{tag}.npy\"\n",
    "                )\n",
    "                if (not numpyfy) or (shape is None) or np.product(this_result.shape) == np.product(shape):\n",
    "                    algo_results.append(this_result.reshape(shape))\n",
    "                else:\n",
    "                    algo_results.append(np.nan*np.ones(shape))\n",
    "\n",
    "            except FileNotFoundError as e:\n",
    "                # print(e)\n",
    "                if shape is None:\n",
    "                    algo_results.append(None)\n",
    "                else:\n",
    "                    algo_results.append(np.nan*np.ones(shape))\n",
    "            \n",
    "        all_results.append(algo_results)\n",
    "    \n",
    "    if numpyfy:\n",
    "        all_results = np.array(all_results, dtype=np.float)\n",
    "        all_results = all_results.reshape([all_results.shape[0], n_runs] + list(shape))\n",
    "        \n",
    "    return all_results\n",
    "\n",
    "\n",
    "model_test_reco_xs_2 = load(\"model_x_reco_test\", 2, (100, 3, 64, 64))\n",
    "model_test_reco_errors_2 = load(\"model_reco_error_test\", 2, (100,))\n",
    "model_gen_fids_2 = load(\"samples_fid\", 2, (1,)).squeeze()\n",
    "\n",
    "model_test_reco_xs_64 = load(\"model_x_reco_test\", 64, (100, 3, 64, 64))\n",
    "model_test_reco_errors_64 = load(\"model_reco_error_test\", 64, (100,))\n",
    "model_gen_fids_64 = load(\"samples_fid\", 64, (1,)).squeeze()\n"
   ]
  },
  {
   "cell_type": "code",
   "execution_count": null,
   "metadata": {},
   "outputs": [],
   "source": [
    "def load_mcmc(tag, dim, shape, numpyfy=True, result_dir=\"../data/results\"):\n",
    "    all_results = []\n",
    "    \n",
    "    for algo_filename, algo_add, algo_dim in zip(algo_filenames, algo_additionals, algo_dims):\n",
    "        algo_results = []\n",
    "            \n",
    "        for run in range(n_runs):\n",
    "            run_str = \"\" if run == 0 else \"_run{}\".format(run)\n",
    "            \n",
    "            for trueparam in range(n_trueparams):\n",
    "                trueparam_str = \"\" if trueparam == 0 else \"_trueparam{}\".format(trueparam)\n",
    "            \n",
    "                for chain in range(n_chains):\n",
    "                    chain_str = \"\" if chain == 0 else \"_chain{}\".format(chain)\n",
    "\n",
    "                    try:\n",
    "                        this_result = np.load(\n",
    "                            f\"{result_dir}/{algo_filename}_{dim if algo_dim is None else algo_dim}\"\n",
    "                            + f\"_gan{dim}d_{algo_add}{run_str}_{tag}{trueparam_str}{chain_str}.npy\"\n",
    "                        )\n",
    "                        if (not numpyfy) or (shape is None) or np.product(this_result.shape) == np.product(shape):\n",
    "                            algo_results.append(this_result.reshape(shape))\n",
    "                        else:\n",
    "                            algo_results.append(np.nan*np.ones(shape))\n",
    "\n",
    "                    except FileNotFoundError as e:\n",
    "                        # print(e)\n",
    "                        if shape is None:\n",
    "                            algo_results.append(None)\n",
    "                        else:\n",
    "                            algo_results.append(np.nan*np.ones(shape))\n",
    "            \n",
    "        all_results.append(algo_results)\n",
    "    \n",
    "    all_results = np.array(all_results, dtype=np.float)\n",
    "    all_results = all_results.reshape([all_results.shape[0], n_runs, n_trueparams, n_chains] + list(shape))\n",
    "        \n",
    "    return all_results\n",
    "\n",
    "\n",
    "model_posterior_samples_64 = load_mcmc(\"posterior_samples\", 64, (400, 1,))\n",
    "model_posterior_samples_64.shape  # (algo, run, true param id, chain, sample, theta component)\n"
   ]
  },
  {
   "cell_type": "markdown",
   "metadata": {},
   "source": [
    "## Compute metrics"
   ]
  },
  {
   "cell_type": "code",
   "execution_count": null,
   "metadata": {},
   "outputs": [],
   "source": [
    "max_reco_error = 10000.\n",
    "model_mean_reco_errors_2 = np.mean(np.clip(model_test_reco_errors_2, 0., max_reco_error), axis=2)\n",
    "model_mean_reco_errors_64 = np.mean(np.clip(model_test_reco_errors_64, 0., max_reco_error), axis=2)\n"
   ]
  },
  {
   "cell_type": "code",
   "execution_count": null,
   "metadata": {},
   "outputs": [],
   "source": [
    "bandwidth = 0.05\n",
    "true_param_points = np.array([[0.,0.]])\n",
    "\n",
    "model_true_log_posteriors_64 = []\n",
    "\n",
    "for algo, run, trueparam in product(range(n_algos), range(n_runs), range(n_trueparams)):\n",
    "    mcmcs = model_posterior_samples_64[algo, run, trueparam].reshape((-1, 2))\n",
    "    mcmcs = mcmcs[np.all(np.isfinite(mcmcs), axis=-1)]\n",
    "    \n",
    "    if len(mcmcs) == 0:\n",
    "        model_true_log_posteriors_64.append(np.nan)\n",
    "        continue\n",
    "        \n",
    "    kde = KernelDensity(kernel=\"gaussian\", bandwidth=bandwidth)\n",
    "    kde.fit(mcmcs)\n",
    "    model_true_log_posteriors_64.append(kde.score(true_param_points[trueparam].reshape((1, 2))))\n",
    "\n",
    "model_true_log_posteriors_64 = np.mean(np.array(model_true_log_posteriors_64).reshape((n_algos, n_runs, n_trueparams)), axis=-1)\n",
    "model_true_log_posteriors_64.shape\n"
   ]
  },
  {
   "cell_type": "code",
   "execution_count": null,
   "metadata": {},
   "outputs": [],
   "source": [
    "model_true_log_posteriors_64"
   ]
  },
  {
   "cell_type": "markdown",
   "metadata": {},
   "source": [
    "## Compute mean and error"
   ]
  },
  {
   "cell_type": "code",
   "execution_count": null,
   "metadata": {},
   "outputs": [],
   "source": [
    "def mean_err_without_outliers(data, remove=0):\n",
    "    shape = list(data.shape)[:-1]\n",
    "    data.reshape((-1, data.shape[-1]))\n",
    "    \n",
    "    means, errors = [], []\n",
    "    \n",
    "    for data_ in data:\n",
    "        data_ = data_[np.isfinite(data_)]\n",
    "        if not len(data_) > 0:\n",
    "            means.append(np.nan)\n",
    "            errors.append(np.nan)\n",
    "            continue\n",
    "            \n",
    "        if len(data_) > 2*remove + 1:\n",
    "            for _ in range(remove):\n",
    "                data_ = np.delete(data_, np.argmin(data_))\n",
    "                data_ = np.delete(data_, np.argmax(data_))\n",
    "\n",
    "        means.append(np.mean(data_))\n",
    "        errors.append(np.std(data_) / len(data_)**0.5)\n",
    "        \n",
    "    return np.array(means).reshape(shape), np.array(errors).reshape(shape)\n",
    "    \n",
    "    \n",
    "model_fid_mean_2, model_fid_std_2 = mean_err_without_outliers(model_gen_fids_2, 0)\n",
    "model_reco_error_mean_2, model_reco_error_std_2 = mean_err_without_outliers(model_mean_reco_errors_2, 0)\n",
    "\n",
    "model_fid_mean_64, model_fid_std_64 = mean_err_without_outliers(model_gen_fids_64, 0)\n",
    "model_reco_error_mean_64, model_reco_error_std_64 = mean_err_without_outliers(model_mean_reco_errors_64, 0)\n",
    "model_true_log_posteriors_mean_64, model_true_log_posteriors_std_64 = mean_err_without_outliers(model_true_log_posteriors_64, 0)\n"
   ]
  },
  {
   "cell_type": "markdown",
   "metadata": {},
   "source": [
    "## Best metrics"
   ]
  },
  {
   "cell_type": "code",
   "execution_count": null,
   "metadata": {},
   "outputs": [],
   "source": [
    "best_fid_2 = -1\n",
    "best_reco_2 = -1\n",
    "best_fid_64 = -1\n",
    "best_reco_64 = -1\n",
    "best_posterior_64 = -1\n",
    "\n",
    "best_fid_2 = np.nanargmin(model_fid_mean_2)\n",
    "print(algo_labels[best_fid_2])\n",
    "best_reco_2 = np.nanargmin(np.where(model_reco_error_mean_2 > 1., model_reco_error_mean_2, np.nan))\n",
    "print(algo_labels[best_reco_2])\n",
    "\n",
    "best_fid_64 = np.nanargmin(model_fid_mean_64)\n",
    "print(algo_labels[best_fid_64])\n",
    "best_reco_64 = np.nanargmin(np.where(model_reco_error_mean_64 > 1., model_reco_error_mean_64, np.nan))\n",
    "print(algo_labels[best_reco_64])\n",
    "best_posterior_64 = np.nanargmax(model_true_log_posteriors_mean_64)\n",
    "print(algo_labels[best_posterior_64])\n"
   ]
  },
  {
   "cell_type": "markdown",
   "metadata": {},
   "source": [
    "## Print result table"
   ]
  },
  {
   "cell_type": "code",
   "execution_count": null,
   "metadata": {},
   "outputs": [],
   "source": [
    "def print_results(\n",
    "    l_label=max([len(l) for l in algo_labels]),\n",
    "    l_means=(5,4,5,4,5),\n",
    "    l_errs=(3,2,3,2,4),\n",
    "    latex=False,\n",
    "    after_decs=(1,0,1,0,2),\n",
    "    labels=[\"FID (2)\", \"RE (2)\", \"FID (64)\", \"RE (64)\", \"log p (64)\"]\n",
    "):\n",
    "    # Number of digits\n",
    "    l_results = np.array(l_means) + 2 + np.array(l_errs)\n",
    "    l_total = l_label + 1 + np.sum(3 + l_results)\n",
    "        \n",
    "    # Divider\n",
    "    col_divider = \"&\" if latex else \"|\"\n",
    "    line_end = r\"\\\\\" if latex else \"\"\n",
    "    block_divider = r\"\\midrule\" if latex else \"-\"*l_total\n",
    "    \n",
    "    # Number formatting\n",
    "    def _f(val, err, after_dec, best, l_mean, l_err):\n",
    "        l_result = l_mean + 2 + l_err\n",
    "        empty_result = \"\" if latex else \" \"*(l_result + 1)\n",
    "        \n",
    "        if not np.any(np.isfinite(val)):\n",
    "            return empty_result\n",
    "        \n",
    "        result = \"{:>{}.{}f}\".format(val, l_mean, after_dec)\n",
    "        if latex and best:\n",
    "            result = r\"\\textbf{\" + result + \"}\"\n",
    "            \n",
    "        if latex:\n",
    "            err_str = str.rjust(\"{:.{}f}\".format(err, after_dec), l_err).replace(\" \", r\"\\hphantom{0}\")\n",
    "            result += r\"\\;\\textcolor{darkgray}{$\\pm$\\;\" + err_str + \"}\"\n",
    "        else:\n",
    "            err_str = \"({:>{}.{}f})\".format(err, l_err, after_dec)\n",
    "            result += err_str\n",
    "            \n",
    "        result += \"*\" if not latex and best else \" \"\n",
    "        \n",
    "        if latex:\n",
    "            result = result.replace(\"-\", \"$-{}$\")\n",
    "            result = result.replace(\"darkgray\", \"dark-gray\")\n",
    "        return result\n",
    "    \n",
    "    \n",
    "    # Header\n",
    "    print(\n",
    "        f\"{'':<{l_label}.{l_label}s} {col_divider} \"\n",
    "        + f\"{labels[0]:>{l_results[0]}.{l_results[0]}s} {col_divider} \"\n",
    "        + f\"{labels[1]:>{l_results[1]}.{l_results[1]}s} {col_divider} \"\n",
    "        + f\"{labels[2]:>{l_results[2]}.{l_results[2]}s} {col_divider} \"\n",
    "        + f\"{labels[3]:>{l_results[3]}.{l_results[3]}s} {col_divider} \"\n",
    "        + f\"{labels[4]:>{l_results[4]}.{l_results[4]}s} {line_end}\"\n",
    "    )\n",
    "    print(block_divider)\n",
    "\n",
    "    # Iterate over methods\n",
    "    for i, (\n",
    "        label, fid2, fid_err2, reco2, reco_err2, fid64, fid_err64, reco64, reco_err64, posterior64, posterior_err64\n",
    "    ) in enumerate(zip(\n",
    "        algo_labels,\n",
    "        model_fid_mean_2, model_fid_std_2, model_reco_error_mean_2, model_reco_error_std_2,\n",
    "        model_fid_mean_64, model_fid_std_64, model_reco_error_mean_64, model_reco_error_std_64,\n",
    "        model_true_log_posteriors_mean_64, model_true_log_posteriors_std_64\n",
    "    )):\n",
    "        # Divider\n",
    "        if i in algo_dividers:\n",
    "            print(block_divider)\n",
    "            \n",
    "        # Print results\n",
    "        print(\n",
    "            f\"{label:<{l_label}.{l_label}s} {col_divider} \"\n",
    "            + f\"{_f(fid2, fid_err2, after_decs[0], i==best_fid_2, l_means[0], l_errs[0]):s}{col_divider} \"\n",
    "            + f\"{_f(reco2, reco_err2, after_decs[1], i==best_reco_2, l_means[1], l_errs[1]):s}{col_divider} \"\n",
    "            + f\"{_f(fid64, fid_err64, after_decs[2], i==best_fid_64, l_means[2], l_errs[2]):s}{col_divider} \"\n",
    "            + f\"{_f(reco64, reco_err64, after_decs[3], i==best_reco_64, l_means[3], l_errs[3]):s}{col_divider} \"\n",
    "            + f\"{_f(posterior64, posterior_err64, after_decs[4], i==best_posterior_64, l_means[4], l_errs[4]):s} {line_end}\"\n",
    "        )\n"
   ]
  },
  {
   "cell_type": "code",
   "execution_count": null,
   "metadata": {},
   "outputs": [],
   "source": [
    "print_results()"
   ]
  },
  {
   "cell_type": "code",
   "execution_count": null,
   "metadata": {},
   "outputs": [],
   "source": [
    "print_results(latex=True)"
   ]
  },
  {
   "cell_type": "code",
   "execution_count": null,
   "metadata": {},
   "outputs": [],
   "source": []
  }
 ],
 "metadata": {
  "kernelspec": {
   "display_name": "Python (ML)",
   "language": "python",
   "name": "ml"
  },
  "language_info": {
   "codemirror_mode": {
    "name": "ipython",
    "version": 3
   },
   "file_extension": ".py",
   "mimetype": "text/x-python",
   "name": "python",
   "nbconvert_exporter": "python",
   "pygments_lexer": "ipython3",
   "version": "3.7.3"
  }
 },
 "nbformat": 4,
 "nbformat_minor": 4
}
