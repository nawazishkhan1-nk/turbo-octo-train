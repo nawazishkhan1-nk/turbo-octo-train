{
 "cells": [
  {
   "cell_type": "markdown",
   "metadata": {},
   "source": [
    "# GAN preprocessing"
   ]
  },
  {
   "cell_type": "code",
   "execution_count": 3,
   "metadata": {},
   "outputs": [],
   "source": [
    "%matplotlib inline\n",
    "\n",
    "import numpy as np\n",
    "from matplotlib import pyplot as plt"
   ]
  },
  {
   "cell_type": "markdown",
   "metadata": {},
   "source": [
    "## Transform images to numpy arrays (only need to do this once)"
   ]
  },
  {
   "cell_type": "code",
   "execution_count": 8,
   "metadata": {},
   "outputs": [],
   "source": [
    "def load_pngs(filename, range_):\n",
    "    imgs = np.array([plt.imread(f\"../../data/samples/gan64d/{filename}.png\".format(i)).astype(np.float) for i in range_])\n",
    "    imgs = np.transpose(imgs, [0,3,1,2])  # Want (batch, c, h, w)\n",
    "    return imgs\n"
   ]
  },
  {
   "cell_type": "code",
   "execution_count": null,
   "metadata": {},
   "outputs": [],
   "source": [
    "np.save(\"../../data/samples/gan2d/grid.npy\", load_pngs(\"grid/grid_64_{:04}\", range(81)))\n",
    "np.save(\"../../data/samples/gan2d/grid_highres.npy\", load_pngs(\"grid/grid_1024_{:04}\", range(81)))\n",
    "np.save(\"../../data/samples/gan2d/train.npy\", load_pngs(\"train/subspace_64_{:05}\", range(1, 10001)))\n",
    "np.save(\"../../data/samples/gan2d/train_highres.npy\", load_pngs(\"train/subspace_1024_{:05}\", range(1, 101)))\n",
    "np.save(\"../../data/samples/gan2d/test.npy\", load_pngs(\"test/subspace_64_{:05}\", range(10001, 11001)))\n"
   ]
  },
  {
   "cell_type": "code",
   "execution_count": 9,
   "metadata": {},
   "outputs": [],
   "source": [
    "np.save(\"../../data/samples/gan64d/x_train.npy\", load_pngs(\"train/subspace_64_{:05}\", range(1, 20001)))\n",
    "np.save(\"../../data/samples/gan64d/x_train_highres.npy\", load_pngs(\"train/subspace_1024_{:05}\", range(1, 101)))\n",
    "np.save(\"../../data/samples/gan64d/x_test.npy\", load_pngs(\"test/subspace_64_{:05}\", range(21001, 22001)))\n",
    "np.save(\"../../data/samples/gan64d/x_test0.npy\", load_pngs(\"test_fix_theta/subspace_64_{:05}\", range(20001, 21001)))\n"
   ]
  },
  {
   "cell_type": "code",
   "execution_count": null,
   "metadata": {},
   "outputs": [],
   "source": []
  }
 ],
 "metadata": {
  "kernelspec": {
   "display_name": "Python (ML)",
   "language": "python",
   "name": "ml"
  },
  "language_info": {
   "codemirror_mode": {
    "name": "ipython",
    "version": 3
   },
   "file_extension": ".py",
   "mimetype": "text/x-python",
   "name": "python",
   "nbconvert_exporter": "python",
   "pygments_lexer": "ipython3",
   "version": "3.7.3"
  }
 },
 "nbformat": 4,
 "nbformat_minor": 4
}
